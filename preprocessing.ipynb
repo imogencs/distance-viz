{
 "cells": [
  {
   "cell_type": "markdown",
   "metadata": {},
   "source": [
    "# distance viz preprocessing "
   ]
  },
  {
   "cell_type": "markdown",
   "metadata": {},
   "source": [
    "### utils"
   ]
  },
  {
   "cell_type": "code",
   "execution_count": 1,
   "metadata": {},
   "outputs": [],
   "source": [
    "import matplotlib.pyplot as plt\n",
    "import numpy as np\n",
    "import pandas as pd\n",
    "import geopy.distance"
   ]
  },
  {
   "cell_type": "code",
   "execution_count": 2,
   "metadata": {},
   "outputs": [],
   "source": [
    "def calculate_distance(lat1, lon1, lat2, lon2):\n",
    "    \"\"\"\n",
    "    calculate the distance in miles \n",
    "    between lat and lon\n",
    "    \"\"\"\n",
    "    return geopy.distance.geodesic((lat1, lon1), (lat2, lon2)).miles"
   ]
  },
  {
   "cell_type": "markdown",
   "metadata": {},
   "source": [
    "### preprocessing"
   ]
  },
  {
   "cell_type": "code",
   "execution_count": 3,
   "metadata": {},
   "outputs": [],
   "source": [
    "loc = pd.read_csv('data/locations_key.csv').drop(columns='address')\n",
    "dst = pd.read_csv('data/distances.csv')\n",
    "\n",
    "# TEMPORARY: limit size of csv because i haven't filled in dates too far back\n",
    "dst = dst[dst.day_int >= 20200914]\n",
    "\n",
    "\n",
    "dst = dst.merge(loc, how='left', left_on='imo', right_on='location').drop(columns='location')\n",
    "dst = dst.rename(columns={\n",
    "    'lat':'imo_lat',\n",
    "    'lon':'imo_lon'\n",
    "})\n",
    "dst = dst.merge(loc, how='left', left_on='jwu', right_on='location').drop(columns='location')\n",
    "dst = dst.rename(columns={\n",
    "    'lat':'jwu_lat',\n",
    "    'lon':'jwu_lon'\n",
    "})"
   ]
  },
  {
   "cell_type": "code",
   "execution_count": 4,
   "metadata": {},
   "outputs": [],
   "source": [
    "dst['distance'] = dst.apply(lambda row: calculate_distance(row.imo_lat, row.imo_lon, row.jwu_lat, row.jwu_lon), axis=1)"
   ]
  },
  {
   "cell_type": "code",
   "execution_count": 5,
   "metadata": {},
   "outputs": [
    {
     "data": {
      "text/html": [
       "<div>\n",
       "<style scoped>\n",
       "    .dataframe tbody tr th:only-of-type {\n",
       "        vertical-align: middle;\n",
       "    }\n",
       "\n",
       "    .dataframe tbody tr th {\n",
       "        vertical-align: top;\n",
       "    }\n",
       "\n",
       "    .dataframe thead th {\n",
       "        text-align: right;\n",
       "    }\n",
       "</style>\n",
       "<table border=\"1\" class=\"dataframe\">\n",
       "  <thead>\n",
       "    <tr style=\"text-align: right;\">\n",
       "      <th></th>\n",
       "      <th>date</th>\n",
       "      <th>pretty_date</th>\n",
       "      <th>imo</th>\n",
       "      <th>jwu</th>\n",
       "      <th>description</th>\n",
       "      <th>year</th>\n",
       "      <th>month</th>\n",
       "      <th>day</th>\n",
       "      <th>day_int</th>\n",
       "      <th>imo_lat</th>\n",
       "      <th>imo_lon</th>\n",
       "      <th>jwu_lat</th>\n",
       "      <th>jwu_lon</th>\n",
       "      <th>distance</th>\n",
       "    </tr>\n",
       "  </thead>\n",
       "  <tbody>\n",
       "  </tbody>\n",
       "</table>\n",
       "</div>"
      ],
      "text/plain": [
       "Empty DataFrame\n",
       "Columns: [date, pretty_date, imo, jwu, description, year, month, day, day_int, imo_lat, imo_lon, jwu_lat, jwu_lon, distance]\n",
       "Index: []"
      ]
     },
     "execution_count": 5,
     "metadata": {},
     "output_type": "execute_result"
    }
   ],
   "source": [
    "dst[dst.imo_lat != dst.imo_lat]"
   ]
  },
  {
   "cell_type": "code",
   "execution_count": 6,
   "metadata": {},
   "outputs": [],
   "source": [
    "dst['day_int'] = dst.year*10000 + dst.month*100 + dst.day\n",
    "dst['log_distance'] = np.log(dst.distance + 1)\n",
    "dst = dst[dst.day_int > 20200913]"
   ]
  },
  {
   "cell_type": "code",
   "execution_count": 7,
   "metadata": {},
   "outputs": [
    {
     "data": {
      "text/html": [
       "<div>\n",
       "<style scoped>\n",
       "    .dataframe tbody tr th:only-of-type {\n",
       "        vertical-align: middle;\n",
       "    }\n",
       "\n",
       "    .dataframe tbody tr th {\n",
       "        vertical-align: top;\n",
       "    }\n",
       "\n",
       "    .dataframe thead th {\n",
       "        text-align: right;\n",
       "    }\n",
       "</style>\n",
       "<table border=\"1\" class=\"dataframe\">\n",
       "  <thead>\n",
       "    <tr style=\"text-align: right;\">\n",
       "      <th></th>\n",
       "      <th>date</th>\n",
       "      <th>pretty_date</th>\n",
       "      <th>imo</th>\n",
       "      <th>jwu</th>\n",
       "      <th>description</th>\n",
       "      <th>year</th>\n",
       "      <th>month</th>\n",
       "      <th>day</th>\n",
       "      <th>day_int</th>\n",
       "      <th>imo_lat</th>\n",
       "      <th>imo_lon</th>\n",
       "      <th>jwu_lat</th>\n",
       "      <th>jwu_lon</th>\n",
       "      <th>distance</th>\n",
       "      <th>log_distance</th>\n",
       "    </tr>\n",
       "  </thead>\n",
       "  <tbody>\n",
       "    <tr>\n",
       "      <th>0</th>\n",
       "      <td>15-08-2022</td>\n",
       "      <td>Mon, Aug 15, 22</td>\n",
       "      <td>The Bluffs</td>\n",
       "      <td>The Bluffs</td>\n",
       "      <td>leezard+b visit sd</td>\n",
       "      <td>2022</td>\n",
       "      <td>8</td>\n",
       "      <td>15</td>\n",
       "      <td>20220815</td>\n",
       "      <td>33.178038</td>\n",
       "      <td>-117.322188</td>\n",
       "      <td>33.178038</td>\n",
       "      <td>-117.322188</td>\n",
       "      <td>0.0</td>\n",
       "      <td>0.0</td>\n",
       "    </tr>\n",
       "    <tr>\n",
       "      <th>1</th>\n",
       "      <td>14-08-2022</td>\n",
       "      <td>Sun, Aug 14, 22</td>\n",
       "      <td>p's</td>\n",
       "      <td>p's</td>\n",
       "      <td>visit b+p in sf!</td>\n",
       "      <td>2022</td>\n",
       "      <td>8</td>\n",
       "      <td>14</td>\n",
       "      <td>20220814</td>\n",
       "      <td>37.811189</td>\n",
       "      <td>-122.271478</td>\n",
       "      <td>37.811189</td>\n",
       "      <td>-122.271478</td>\n",
       "      <td>0.0</td>\n",
       "      <td>0.0</td>\n",
       "    </tr>\n",
       "    <tr>\n",
       "      <th>2</th>\n",
       "      <td>13-08-2022</td>\n",
       "      <td>Sat, Aug 13, 22</td>\n",
       "      <td>p's</td>\n",
       "      <td>p's</td>\n",
       "      <td>visit b+p in sf!</td>\n",
       "      <td>2022</td>\n",
       "      <td>8</td>\n",
       "      <td>13</td>\n",
       "      <td>20220813</td>\n",
       "      <td>37.811189</td>\n",
       "      <td>-122.271478</td>\n",
       "      <td>37.811189</td>\n",
       "      <td>-122.271478</td>\n",
       "      <td>0.0</td>\n",
       "      <td>0.0</td>\n",
       "    </tr>\n",
       "    <tr>\n",
       "      <th>3</th>\n",
       "      <td>12-08-2022</td>\n",
       "      <td>Fri, Aug 12, 22</td>\n",
       "      <td>p's</td>\n",
       "      <td>p's</td>\n",
       "      <td>visit b+p in sf!</td>\n",
       "      <td>2022</td>\n",
       "      <td>8</td>\n",
       "      <td>12</td>\n",
       "      <td>20220812</td>\n",
       "      <td>37.811189</td>\n",
       "      <td>-122.271478</td>\n",
       "      <td>37.811189</td>\n",
       "      <td>-122.271478</td>\n",
       "      <td>0.0</td>\n",
       "      <td>0.0</td>\n",
       "    </tr>\n",
       "    <tr>\n",
       "      <th>4</th>\n",
       "      <td>11-08-2022</td>\n",
       "      <td>Thu, Aug 11, 22</td>\n",
       "      <td>p's</td>\n",
       "      <td>p's</td>\n",
       "      <td>visit b+p in sf!</td>\n",
       "      <td>2022</td>\n",
       "      <td>8</td>\n",
       "      <td>11</td>\n",
       "      <td>20220811</td>\n",
       "      <td>37.811189</td>\n",
       "      <td>-122.271478</td>\n",
       "      <td>37.811189</td>\n",
       "      <td>-122.271478</td>\n",
       "      <td>0.0</td>\n",
       "      <td>0.0</td>\n",
       "    </tr>\n",
       "  </tbody>\n",
       "</table>\n",
       "</div>"
      ],
      "text/plain": [
       "         date      pretty_date         imo         jwu         description  \\\n",
       "0  15-08-2022  Mon, Aug 15, 22  The Bluffs  The Bluffs  leezard+b visit sd   \n",
       "1  14-08-2022  Sun, Aug 14, 22         p's         p's    visit b+p in sf!   \n",
       "2  13-08-2022  Sat, Aug 13, 22         p's         p's    visit b+p in sf!   \n",
       "3  12-08-2022  Fri, Aug 12, 22         p's         p's    visit b+p in sf!   \n",
       "4  11-08-2022  Thu, Aug 11, 22         p's         p's    visit b+p in sf!   \n",
       "\n",
       "   year  month  day   day_int    imo_lat     imo_lon    jwu_lat     jwu_lon  \\\n",
       "0  2022      8   15  20220815  33.178038 -117.322188  33.178038 -117.322188   \n",
       "1  2022      8   14  20220814  37.811189 -122.271478  37.811189 -122.271478   \n",
       "2  2022      8   13  20220813  37.811189 -122.271478  37.811189 -122.271478   \n",
       "3  2022      8   12  20220812  37.811189 -122.271478  37.811189 -122.271478   \n",
       "4  2022      8   11  20220811  37.811189 -122.271478  37.811189 -122.271478   \n",
       "\n",
       "   distance  log_distance  \n",
       "0       0.0           0.0  \n",
       "1       0.0           0.0  \n",
       "2       0.0           0.0  \n",
       "3       0.0           0.0  \n",
       "4       0.0           0.0  "
      ]
     },
     "execution_count": 7,
     "metadata": {},
     "output_type": "execute_result"
    }
   ],
   "source": [
    "dst.head()"
   ]
  },
  {
   "cell_type": "markdown",
   "metadata": {},
   "source": [
    "### initial plot idea"
   ]
  },
  {
   "cell_type": "code",
   "execution_count": 8,
   "metadata": {},
   "outputs": [
    {
     "data": {
      "text/plain": [
       "[<matplotlib.lines.Line2D at 0x288ce963df0>]"
      ]
     },
     "execution_count": 8,
     "metadata": {},
     "output_type": "execute_result"
    },
    {
     "data": {
      "image/png": "[encoded data removed]",
      "text/plain": [
       "<Figure size 432x288 with 1 Axes>"
      ]
     },
     "metadata": {
      "needs_background": "light"
     },
     "output_type": "display_data"
    }
   ],
   "source": [
    "plt.plot(dst.log_distance)"
   ]
  },
  {
   "cell_type": "markdown",
   "metadata": {},
   "source": [
    "### output data ready for viz :) "
   ]
  },
  {
   "cell_type": "code",
   "execution_count": 9,
   "metadata": {},
   "outputs": [],
   "source": [
    "dst.to_csv(r'data/processed.csv')"
   ]
  },
  {
   "cell_type": "code",
   "execution_count": null,
   "metadata": {},
   "outputs": [],
   "source": []
  }
 ],
 "metadata": {
  "interpreter": {
   "hash": "81794d4967e6c3204c66dcd87b604927b115b27c00565d3d43f05ba2f3a2cb0d"
  },
  "kernelspec": {
   "display_name": "Python 3.9.2 64-bit",
   "language": "python",
   "name": "python3"
  },
  "language_info": {
   "codemirror_mode": {
    "name": "ipython",
    "version": 3
   },
   "file_extension": ".py",
   "mimetype": "text/x-python",
   "name": "python",
   "nbconvert_exporter": "python",
   "pygments_lexer": "ipython3",
   "version": "3.9.2"
  },
  "orig_nbformat": 4
 },
 "nbformat": 4,
 "nbformat_minor": 2
}
