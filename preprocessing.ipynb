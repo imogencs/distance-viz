{
 "cells": [
  {
   "cell_type": "markdown",
   "metadata": {},
   "source": [
    "# distance viz preprocessing "
   ]
  },
  {
   "cell_type": "markdown",
   "metadata": {},
   "source": [
    "### utils"
   ]
  },
  {
   "cell_type": "code",
   "execution_count": 13,
   "metadata": {},
   "outputs": [],
   "source": [
    "import matplotlib.pyplot as plt\n",
    "import numpy as np\n",
    "import pandas as pd\n",
    "import geopy.distance"
   ]
  },
  {
   "cell_type": "code",
   "execution_count": 14,
   "metadata": {},
   "outputs": [],
   "source": [
    "def calculate_distance(lat1, lon1, lat2, lon2):\n",
    "    \"\"\"\n",
    "    calculate the distance in miles \n",
    "    between lat and lon\n",
    "    \"\"\"\n",
    "    return geopy.distance.geodesic((lat1, lon1), (lat2, lon2)).miles"
   ]
  },
  {
   "cell_type": "markdown",
   "metadata": {},
   "source": [
    "### preprocessing"
   ]
  },
  {
   "cell_type": "code",
   "execution_count": 15,
   "metadata": {},
   "outputs": [],
   "source": [
    "loc = pd.read_csv('data/locations_key.csv').drop(columns='address')\n",
    "dst = pd.read_csv('data/distances.csv')\n",
    "\n",
    "# TEMPORARY: limit size of csv because i haven't filled in dates too far back\n",
    "dst = dst[dst.day_int >= 20200914]\n",
    "dst = dst[dst.day_int <= 20220811]\n",
    "\n",
    "dst = dst.merge(loc, how='left', left_on='imo', right_on='location').drop(columns='location')\n",
    "dst = dst.rename(columns={\n",
    "    'lat':'imo_lat',\n",
    "    'lon':'imo_lon'\n",
    "})\n",
    "dst = dst.merge(loc, how='left', left_on='jwu', right_on='location').drop(columns='location')\n",
    "dst = dst.rename(columns={\n",
    "    'lat':'jwu_lat',\n",
    "    'lon':'jwu_lon'\n",
    "})"
   ]
  },
  {
   "cell_type": "code",
   "execution_count": 16,
   "metadata": {},
   "outputs": [],
   "source": [
    "dst['distance'] = dst.apply(lambda row: calculate_distance(row.imo_lat, row.imo_lon, row.jwu_lat, row.jwu_lon), axis=1)"
   ]
  },
  {
   "cell_type": "code",
   "execution_count": 17,
   "metadata": {},
   "outputs": [
    {
     "data": {
      "text/html": [
       "<div>\n",
       "<style scoped>\n",
       "    .dataframe tbody tr th:only-of-type {\n",
       "        vertical-align: middle;\n",
       "    }\n",
       "\n",
       "    .dataframe tbody tr th {\n",
       "        vertical-align: top;\n",
       "    }\n",
       "\n",
       "    .dataframe thead th {\n",
       "        text-align: right;\n",
       "    }\n",
       "</style>\n",
       "<table border=\"1\" class=\"dataframe\">\n",
       "  <thead>\n",
       "    <tr style=\"text-align: right;\">\n",
       "      <th></th>\n",
       "      <th>date</th>\n",
       "      <th>pretty_date</th>\n",
       "      <th>imo</th>\n",
       "      <th>jwu</th>\n",
       "      <th>description</th>\n",
       "      <th>year</th>\n",
       "      <th>month</th>\n",
       "      <th>day</th>\n",
       "      <th>day_int</th>\n",
       "      <th>imo_lat</th>\n",
       "      <th>imo_lon</th>\n",
       "      <th>jwu_lat</th>\n",
       "      <th>jwu_lon</th>\n",
       "      <th>distance</th>\n",
       "    </tr>\n",
       "  </thead>\n",
       "  <tbody>\n",
       "  </tbody>\n",
       "</table>\n",
       "</div>"
      ],
      "text/plain": [
       "Empty DataFrame\n",
       "Columns: [date, pretty_date, imo, jwu, description, year, month, day, day_int, imo_lat, imo_lon, jwu_lat, jwu_lon, distance]\n",
       "Index: []"
      ]
     },
     "execution_count": 17,
     "metadata": {},
     "output_type": "execute_result"
    }
   ],
   "source": [
    "dst[dst.imo_lat != dst.imo_lat]"
   ]
  },
  {
   "cell_type": "code",
   "execution_count": 18,
   "metadata": {},
   "outputs": [],
   "source": [
    "dst['day_int'] = dst.year*10000 + dst.month*100 + dst.day\n",
    "dst['log_distance'] = np.log(dst.distance + 1)\n",
    "dst = dst[dst.day_int > 20200913]"
   ]
  },
  {
   "cell_type": "code",
   "execution_count": 19,
   "metadata": {},
   "outputs": [
    {
     "data": {
      "text/html": [
       "<div>\n",
       "<style scoped>\n",
       "    .dataframe tbody tr th:only-of-type {\n",
       "        vertical-align: middle;\n",
       "    }\n",
       "\n",
       "    .dataframe tbody tr th {\n",
       "        vertical-align: top;\n",
       "    }\n",
       "\n",
       "    .dataframe thead th {\n",
       "        text-align: right;\n",
       "    }\n",
       "</style>\n",
       "<table border=\"1\" class=\"dataframe\">\n",
       "  <thead>\n",
       "    <tr style=\"text-align: right;\">\n",
       "      <th></th>\n",
       "      <th>date</th>\n",
       "      <th>pretty_date</th>\n",
       "      <th>imo</th>\n",
       "      <th>jwu</th>\n",
       "      <th>description</th>\n",
       "      <th>year</th>\n",
       "      <th>month</th>\n",
       "      <th>day</th>\n",
       "      <th>day_int</th>\n",
       "      <th>imo_lat</th>\n",
       "      <th>imo_lon</th>\n",
       "      <th>jwu_lat</th>\n",
       "      <th>jwu_lon</th>\n",
       "      <th>distance</th>\n",
       "      <th>log_distance</th>\n",
       "    </tr>\n",
       "  </thead>\n",
       "  <tbody>\n",
       "    <tr>\n",
       "      <th>0</th>\n",
       "      <td>11-08-2022</td>\n",
       "      <td>Thu, Aug 11, 22</td>\n",
       "      <td>p's</td>\n",
       "      <td>p's</td>\n",
       "      <td>visit b+p in sf!</td>\n",
       "      <td>2022</td>\n",
       "      <td>8</td>\n",
       "      <td>11</td>\n",
       "      <td>20220811</td>\n",
       "      <td>37.811189</td>\n",
       "      <td>-122.271478</td>\n",
       "      <td>37.811189</td>\n",
       "      <td>-122.271478</td>\n",
       "      <td>0.0</td>\n",
       "      <td>0.0</td>\n",
       "    </tr>\n",
       "    <tr>\n",
       "      <th>1</th>\n",
       "      <td>10-08-2022</td>\n",
       "      <td>Wed, Aug 10, 22</td>\n",
       "      <td>p's</td>\n",
       "      <td>p's</td>\n",
       "      <td>visit b+p in sf!</td>\n",
       "      <td>2022</td>\n",
       "      <td>8</td>\n",
       "      <td>10</td>\n",
       "      <td>20220810</td>\n",
       "      <td>37.811189</td>\n",
       "      <td>-122.271478</td>\n",
       "      <td>37.811189</td>\n",
       "      <td>-122.271478</td>\n",
       "      <td>0.0</td>\n",
       "      <td>0.0</td>\n",
       "    </tr>\n",
       "    <tr>\n",
       "      <th>2</th>\n",
       "      <td>09-08-2022</td>\n",
       "      <td>Tue, Aug 9, 22</td>\n",
       "      <td>p's</td>\n",
       "      <td>p's</td>\n",
       "      <td>visit b+p in sf!</td>\n",
       "      <td>2022</td>\n",
       "      <td>8</td>\n",
       "      <td>9</td>\n",
       "      <td>20220809</td>\n",
       "      <td>37.811189</td>\n",
       "      <td>-122.271478</td>\n",
       "      <td>37.811189</td>\n",
       "      <td>-122.271478</td>\n",
       "      <td>0.0</td>\n",
       "      <td>0.0</td>\n",
       "    </tr>\n",
       "    <tr>\n",
       "      <th>3</th>\n",
       "      <td>08-08-2022</td>\n",
       "      <td>Mon, Aug 8, 22</td>\n",
       "      <td>The Bluffs</td>\n",
       "      <td>The Bluffs</td>\n",
       "      <td>leezard visits clover in sd</td>\n",
       "      <td>2022</td>\n",
       "      <td>8</td>\n",
       "      <td>8</td>\n",
       "      <td>20220808</td>\n",
       "      <td>33.178038</td>\n",
       "      <td>-117.322188</td>\n",
       "      <td>33.178038</td>\n",
       "      <td>-117.322188</td>\n",
       "      <td>0.0</td>\n",
       "      <td>0.0</td>\n",
       "    </tr>\n",
       "    <tr>\n",
       "      <th>4</th>\n",
       "      <td>07-08-2022</td>\n",
       "      <td>Sun, Aug 7, 22</td>\n",
       "      <td>The Bluffs</td>\n",
       "      <td>The Bluffs</td>\n",
       "      <td>leezard visits clover in sd</td>\n",
       "      <td>2022</td>\n",
       "      <td>8</td>\n",
       "      <td>7</td>\n",
       "      <td>20220807</td>\n",
       "      <td>33.178038</td>\n",
       "      <td>-117.322188</td>\n",
       "      <td>33.178038</td>\n",
       "      <td>-117.322188</td>\n",
       "      <td>0.0</td>\n",
       "      <td>0.0</td>\n",
       "    </tr>\n",
       "  </tbody>\n",
       "</table>\n",
       "</div>"
      ],
      "text/plain": [
       "         date      pretty_date         imo         jwu  \\\n",
       "0  11-08-2022  Thu, Aug 11, 22         p's         p's   \n",
       "1  10-08-2022  Wed, Aug 10, 22         p's         p's   \n",
       "2  09-08-2022   Tue, Aug 9, 22         p's         p's   \n",
       "3  08-08-2022   Mon, Aug 8, 22  The Bluffs  The Bluffs   \n",
       "4  07-08-2022   Sun, Aug 7, 22  The Bluffs  The Bluffs   \n",
       "\n",
       "                   description  year  month  day   day_int    imo_lat  \\\n",
       "0             visit b+p in sf!  2022      8   11  20220811  37.811189   \n",
       "1             visit b+p in sf!  2022      8   10  20220810  37.811189   \n",
       "2             visit b+p in sf!  2022      8    9  20220809  37.811189   \n",
       "3  leezard visits clover in sd  2022      8    8  20220808  33.178038   \n",
       "4  leezard visits clover in sd  2022      8    7  20220807  33.178038   \n",
       "\n",
       "      imo_lon    jwu_lat     jwu_lon  distance  log_distance  \n",
       "0 -122.271478  37.811189 -122.271478       0.0           0.0  \n",
       "1 -122.271478  37.811189 -122.271478       0.0           0.0  \n",
       "2 -122.271478  37.811189 -122.271478       0.0           0.0  \n",
       "3 -117.322188  33.178038 -117.322188       0.0           0.0  \n",
       "4 -117.322188  33.178038 -117.322188       0.0           0.0  "
      ]
     },
     "execution_count": 19,
     "metadata": {},
     "output_type": "execute_result"
    }
   ],
   "source": [
    "dst.head()"
   ]
  },
  {
   "cell_type": "markdown",
   "metadata": {},
   "source": [
    "### initial plot idea"
   ]
  },
  {
   "cell_type": "code",
   "execution_count": 20,
   "metadata": {},
   "outputs": [
    {
     "data": {
      "text/plain": [
       "[<matplotlib.lines.Line2D at 0x288ce45a370>]"
      ]
     },
     "execution_count": 20,
     "metadata": {},
     "output_type": "execute_result"
    },
    {
     "data": {
      "image/png": "[encoded data removed]",
      "text/plain": [
       "<Figure size 432x288 with 1 Axes>"
      ]
     },
     "metadata": {
      "needs_background": "light"
     },
     "output_type": "display_data"
    }
   ],
   "source": [
    "plt.plot(dst.log_distance)"
   ]
  },
  {
   "cell_type": "markdown",
   "metadata": {},
   "source": [
    "### output data ready for viz :) "
   ]
  },
  {
   "cell_type": "code",
   "execution_count": 21,
   "metadata": {},
   "outputs": [],
   "source": [
    "dst.to_csv(r'data/processed.csv')"
   ]
  },
  {
   "cell_type": "code",
   "execution_count": null,
   "metadata": {},
   "outputs": [],
   "source": []
  }
 ],
 "metadata": {
  "interpreter": {
   "hash": "81794d4967e6c3204c66dcd87b604927b115b27c00565d3d43f05ba2f3a2cb0d"
  },
  "kernelspec": {
   "display_name": "Python 3.9.2 64-bit",
   "language": "python",
   "name": "python3"
  },
  "language_info": {
   "codemirror_mode": {
    "name": "ipython",
    "version": 3
   },
   "file_extension": ".py",
   "mimetype": "text/x-python",
   "name": "python",
   "nbconvert_exporter": "python",
   "pygments_lexer": "ipython3",
   "version": "3.9.2"
  },
  "orig_nbformat": 4
 },
 "nbformat": 4,
 "nbformat_minor": 2
}
