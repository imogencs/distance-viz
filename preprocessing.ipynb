{
 "cells": [
  {
   "cell_type": "markdown",
   "metadata": {},
   "source": [
    "# distance viz preprocessing "
   ]
  },
  {
   "cell_type": "markdown",
   "metadata": {},
   "source": [
    "### utils"
   ]
  },
  {
   "cell_type": "code",
   "execution_count": 18,
   "metadata": {},
   "outputs": [],
   "source": [
    "import matplotlib.pyplot as plt\n",
    "import numpy as np\n",
    "import pandas as pd\n",
    "import geopy.distance"
   ]
  },
  {
   "cell_type": "code",
   "execution_count": 19,
   "metadata": {},
   "outputs": [],
   "source": [
    "def calculate_distance(lat1, lon1, lat2, lon2):\n",
    "    \"\"\"\n",
    "    calculate the distance in miles \n",
    "    between lat and lon\n",
    "    \"\"\"\n",
    "    return geopy.distance.geodesic((lat1, lon1), (lat2, lon2)).miles"
   ]
  },
  {
   "cell_type": "markdown",
   "metadata": {},
   "source": [
    "### preprocessing"
   ]
  },
  {
   "cell_type": "code",
   "execution_count": 20,
   "metadata": {},
   "outputs": [],
   "source": [
    "loc = pd.read_csv('data/locations_key.csv').drop(columns='address')\n",
    "dst = pd.read_csv('data/distances.csv')\n",
    "\n",
    "# TEMPORARY: limit size of csv because i haven't filled in dates too far back\n",
    "dst = dst[dst.day_int > 20200914]\n",
    "\n",
    "\n",
    "dst = dst.merge(loc, how='left', left_on='imo', right_on='location').drop(columns='location')\n",
    "dst = dst.rename(columns={\n",
    "    'lat':'imo_lat',\n",
    "    'lon':'imo_lon'\n",
    "})\n",
    "dst = dst.merge(loc, how='left', left_on='jwu', right_on='location').drop(columns='location')\n",
    "dst = dst.rename(columns={\n",
    "    'lat':'jwu_lat',\n",
    "    'lon':'jwu_lon'\n",
    "})"
   ]
  },
  {
   "cell_type": "code",
   "execution_count": 21,
   "metadata": {},
   "outputs": [],
   "source": [
    "dst['distance'] = dst.apply(lambda row: calculate_distance(row.imo_lat, row.imo_lon, row.jwu_lat, row.jwu_lon), axis=1)"
   ]
  },
  {
   "cell_type": "code",
   "execution_count": 22,
   "metadata": {},
   "outputs": [],
   "source": [
    "dst['day_int'] = dst.year*10000 + dst.month*100 + dst.day\n",
    "dst['log_distance'] = np.log(dst.distance + 1)\n",
    "dst = dst[dst.day_int > 20200913]"
   ]
  },
  {
   "cell_type": "code",
   "execution_count": 23,
   "metadata": {},
   "outputs": [
    {
     "data": {
      "text/html": [
       "<div>\n",
       "<style scoped>\n",
       "    .dataframe tbody tr th:only-of-type {\n",
       "        vertical-align: middle;\n",
       "    }\n",
       "\n",
       "    .dataframe tbody tr th {\n",
       "        vertical-align: top;\n",
       "    }\n",
       "\n",
       "    .dataframe thead th {\n",
       "        text-align: right;\n",
       "    }\n",
       "</style>\n",
       "<table border=\"1\" class=\"dataframe\">\n",
       "  <thead>\n",
       "    <tr style=\"text-align: right;\">\n",
       "      <th></th>\n",
       "      <th>date</th>\n",
       "      <th>pretty_date</th>\n",
       "      <th>imo</th>\n",
       "      <th>jwu</th>\n",
       "      <th>description</th>\n",
       "      <th>year</th>\n",
       "      <th>month</th>\n",
       "      <th>day</th>\n",
       "      <th>day_int</th>\n",
       "      <th>imo_lat</th>\n",
       "      <th>imo_lon</th>\n",
       "      <th>jwu_lat</th>\n",
       "      <th>jwu_lon</th>\n",
       "      <th>distance</th>\n",
       "      <th>log_distance</th>\n",
       "    </tr>\n",
       "  </thead>\n",
       "  <tbody>\n",
       "    <tr>\n",
       "      <th>0</th>\n",
       "      <td>29-07-2022</td>\n",
       "      <td>Fri, Jul 29, 22</td>\n",
       "      <td>The Bluffs</td>\n",
       "      <td>The Bluffs</td>\n",
       "      <td>Jyalu visits Imo in Carlsbad</td>\n",
       "      <td>2022</td>\n",
       "      <td>7</td>\n",
       "      <td>29</td>\n",
       "      <td>20220729</td>\n",
       "      <td>33.178038</td>\n",
       "      <td>-117.322188</td>\n",
       "      <td>33.178038</td>\n",
       "      <td>-117.322188</td>\n",
       "      <td>0.000000</td>\n",
       "      <td>0.000000</td>\n",
       "    </tr>\n",
       "    <tr>\n",
       "      <th>1</th>\n",
       "      <td>28-07-2022</td>\n",
       "      <td>Thu, Jul 28, 22</td>\n",
       "      <td>The Bluffs</td>\n",
       "      <td>Sharon</td>\n",
       "      <td>the sponless time</td>\n",
       "      <td>2022</td>\n",
       "      <td>7</td>\n",
       "      <td>28</td>\n",
       "      <td>20220728</td>\n",
       "      <td>33.178038</td>\n",
       "      <td>-117.322188</td>\n",
       "      <td>42.107550</td>\n",
       "      <td>-71.153158</td>\n",
       "      <td>2572.899779</td>\n",
       "      <td>7.853177</td>\n",
       "    </tr>\n",
       "    <tr>\n",
       "      <th>2</th>\n",
       "      <td>27-07-2022</td>\n",
       "      <td>Wed, Jul 27, 22</td>\n",
       "      <td>The Bluffs</td>\n",
       "      <td>Sharon</td>\n",
       "      <td>the sponless time</td>\n",
       "      <td>2022</td>\n",
       "      <td>7</td>\n",
       "      <td>27</td>\n",
       "      <td>20220727</td>\n",
       "      <td>33.178038</td>\n",
       "      <td>-117.322188</td>\n",
       "      <td>42.107550</td>\n",
       "      <td>-71.153158</td>\n",
       "      <td>2572.899779</td>\n",
       "      <td>7.853177</td>\n",
       "    </tr>\n",
       "    <tr>\n",
       "      <th>3</th>\n",
       "      <td>26-07-2022</td>\n",
       "      <td>Tue, Jul 26, 22</td>\n",
       "      <td>The Bluffs</td>\n",
       "      <td>Sharon</td>\n",
       "      <td>the sponless time</td>\n",
       "      <td>2022</td>\n",
       "      <td>7</td>\n",
       "      <td>26</td>\n",
       "      <td>20220726</td>\n",
       "      <td>33.178038</td>\n",
       "      <td>-117.322188</td>\n",
       "      <td>42.107550</td>\n",
       "      <td>-71.153158</td>\n",
       "      <td>2572.899779</td>\n",
       "      <td>7.853177</td>\n",
       "    </tr>\n",
       "    <tr>\n",
       "      <th>4</th>\n",
       "      <td>25-07-2022</td>\n",
       "      <td>Mon, Jul 25, 22</td>\n",
       "      <td>The Bluffs</td>\n",
       "      <td>Sharon</td>\n",
       "      <td>the sponless time</td>\n",
       "      <td>2022</td>\n",
       "      <td>7</td>\n",
       "      <td>25</td>\n",
       "      <td>20220725</td>\n",
       "      <td>33.178038</td>\n",
       "      <td>-117.322188</td>\n",
       "      <td>42.107550</td>\n",
       "      <td>-71.153158</td>\n",
       "      <td>2572.899779</td>\n",
       "      <td>7.853177</td>\n",
       "    </tr>\n",
       "  </tbody>\n",
       "</table>\n",
       "</div>"
      ],
      "text/plain": [
       "         date      pretty_date         imo         jwu  \\\n",
       "0  29-07-2022  Fri, Jul 29, 22  The Bluffs  The Bluffs   \n",
       "1  28-07-2022  Thu, Jul 28, 22  The Bluffs      Sharon   \n",
       "2  27-07-2022  Wed, Jul 27, 22  The Bluffs      Sharon   \n",
       "3  26-07-2022  Tue, Jul 26, 22  The Bluffs      Sharon   \n",
       "4  25-07-2022  Mon, Jul 25, 22  The Bluffs      Sharon   \n",
       "\n",
       "                    description  year  month  day   day_int    imo_lat  \\\n",
       "0  Jyalu visits Imo in Carlsbad  2022      7   29  20220729  33.178038   \n",
       "1             the sponless time  2022      7   28  20220728  33.178038   \n",
       "2             the sponless time  2022      7   27  20220727  33.178038   \n",
       "3             the sponless time  2022      7   26  20220726  33.178038   \n",
       "4             the sponless time  2022      7   25  20220725  33.178038   \n",
       "\n",
       "      imo_lon    jwu_lat     jwu_lon     distance  log_distance  \n",
       "0 -117.322188  33.178038 -117.322188     0.000000      0.000000  \n",
       "1 -117.322188  42.107550  -71.153158  2572.899779      7.853177  \n",
       "2 -117.322188  42.107550  -71.153158  2572.899779      7.853177  \n",
       "3 -117.322188  42.107550  -71.153158  2572.899779      7.853177  \n",
       "4 -117.322188  42.107550  -71.153158  2572.899779      7.853177  "
      ]
     },
     "execution_count": 23,
     "metadata": {},
     "output_type": "execute_result"
    }
   ],
   "source": [
    "dst.head()"
   ]
  },
  {
   "cell_type": "markdown",
   "metadata": {},
   "source": [
    "### initial plot idea"
   ]
  },
  {
   "cell_type": "code",
   "execution_count": 24,
   "metadata": {},
   "outputs": [
    {
     "data": {
      "text/plain": [
       "[<matplotlib.lines.Line2D at 0x266cdc39610>]"
      ]
     },
     "execution_count": 24,
     "metadata": {},
     "output_type": "execute_result"
    },
    {
     "data": {
      "image/png": "[encoded data removed]",
      "text/plain": [
       "<Figure size 432x288 with 1 Axes>"
      ]
     },
     "metadata": {
      "needs_background": "light"
     },
     "output_type": "display_data"
    }
   ],
   "source": [
    "plt.plot(dst.log_distance)"
   ]
  },
  {
   "cell_type": "markdown",
   "metadata": {},
   "source": [
    "### output data ready for viz :) "
   ]
  },
  {
   "cell_type": "code",
   "execution_count": null,
   "metadata": {},
   "outputs": [],
   "source": [
    "dst.to_csv(r'data/processed.csv')"
   ]
  },
  {
   "cell_type": "code",
   "execution_count": null,
   "metadata": {},
   "outputs": [],
   "source": []
  }
 ],
 "metadata": {
  "interpreter": {
   "hash": "81794d4967e6c3204c66dcd87b604927b115b27c00565d3d43f05ba2f3a2cb0d"
  },
  "kernelspec": {
   "display_name": "Python 3.9.2 64-bit",
   "language": "python",
   "name": "python3"
  },
  "language_info": {
   "codemirror_mode": {
    "name": "ipython",
    "version": 3
   },
   "file_extension": ".py",
   "mimetype": "text/x-python",
   "name": "python",
   "nbconvert_exporter": "python",
   "pygments_lexer": "ipython3",
   "version": "3.9.2"
  },
  "orig_nbformat": 4
 },
 "nbformat": 4,
 "nbformat_minor": 2
}
